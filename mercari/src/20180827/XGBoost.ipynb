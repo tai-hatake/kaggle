{
 "cells": [
  {
   "cell_type": "code",
   "execution_count": 1,
   "metadata": {},
   "outputs": [],
   "source": [
    "import pandas as pd\n",
    "import numpy as np\n",
    "import xgboost as xgb\n",
    "import time"
   ]
  },
  {
   "cell_type": "code",
   "execution_count": 2,
   "metadata": {},
   "outputs": [],
   "source": [
    "# datatypeの変換\n",
    "def change_datatype(df):\n",
    "    for col in list(df.select_dtypes(include=['int']).columns):\n",
    "        if np.max(df[col]) <= 127 and np.min(df[col]) >= -128:\n",
    "            df[col] = df[col].astype(np.int8)\n",
    "        elif np.max(df[col]) <= 255 and np.min(df[col]) >= 0:\n",
    "            df[col] = df[col].astype(np.uint8)\n",
    "        elif np.max(df[col]) <= 32767 and np.min(df[col]) >= -32768:\n",
    "            df[col] = df[col].astype(np.int16)\n",
    "        elif np.max(df[col]) <= 65535 and np.min(df[col]) >= 0:\n",
    "            df[col] = df[col].astype(np.uint16)\n",
    "        elif np.max(df[col]) <= 2147483647 and np.min(df[col]) >= -2147483648:\n",
    "            df[col] = df[col].astype(np.int32)\n",
    "        elif np.max(df[col]) <= 4294967296 and np.min(df[col]) >= 0:\n",
    "            df[col] = df[col].astype(np.uint32)\n",
    "    for col in list(df.select_dtypes(include=['float']).columns):\n",
    "        df[col] = df[col].astype(np.float32)"
   ]
  },
  {
   "cell_type": "code",
   "execution_count": 3,
   "metadata": {},
   "outputs": [],
   "source": [
    "# 文字数カウント\n",
    "def count_words(key):\n",
    "    return len(str(key).split())"
   ]
  },
  {
   "cell_type": "code",
   "execution_count": 4,
   "metadata": {},
   "outputs": [],
   "source": [
    "# 数字のカウント\n",
    "# isalphaで英字判定\n",
    "def count_numbers(key):\n",
    "    return sum(c.isalpha() for c in key)"
   ]
  },
  {
   "cell_type": "code",
   "execution_count": 5,
   "metadata": {},
   "outputs": [],
   "source": [
    "# 小文字判定\n",
    "def count_upper(key):\n",
    "    return sum(c.isupper() for c in key)"
   ]
  },
  {
   "cell_type": "code",
   "execution_count": 6,
   "metadata": {},
   "outputs": [],
   "source": [
    "# \n",
    "# pandasのagg()は、関数を渡して処理することができる。\n",
    "# numpyのmean関数は、平均の取得\n",
    "# to_frameは、seriesをdataframeに変換\n",
    "def get_mean(df, name, target, alpha=0):\n",
    "    group = df.groupby(name)[target].agg([np.sum, np.size])\n",
    "    mean = train[target].mean()\n",
    "    series = (group['sum'] + mean*alpha)/(group['size']+alpha)\n",
    "    series.name = name + '_mean'\n",
    "    return series.to_frame().reset_index()"
   ]
  },
  {
   "cell_type": "code",
   "execution_count": 7,
   "metadata": {},
   "outputs": [],
   "source": [
    "# numpyのonesは、引数分の配列を生成する\n",
    "def add_words(df, name, length):\n",
    "    x_data = []\n",
    "    for x in df[name].values:\n",
    "        x_row = np.ones(length, dtype=np.uint16)*0\n",
    "        for xi, i in zip(list(str(x)), np.arange(length)):\n",
    "            x_row[i] = ord(xi)\n",
    "        x_data.append(x_row)\n",
    "    return pd.concat([df, pd.DataFrame(x_data, columns=[name+str(c) for c in range(length)]).astype(np.uint16)], axis=1)"
   ]
  },
  {
   "cell_type": "code",
   "execution_count": 8,
   "metadata": {},
   "outputs": [],
   "source": [
    "start_time = time.time()\n",
    "c_categories = ['name', 'category_name', 'brand_name', 'item_description']\n",
    "c_means = ['category_name', 'item_condition_id', 'brand_name']\n",
    "c_texts = ['name', 'item_description']\n",
    "c_ignors = ['name', 'item_description', 'brand_name', 'category_name', 'train_id', 'test_id', 'price']"
   ]
  },
  {
   "cell_type": "code",
   "execution_count": 9,
   "metadata": {},
   "outputs": [],
   "source": [
    "train = pd.read_csv('../input/train.tsv', sep='\\t')\n",
    "test = pd.read_csv('../input/test.tsv', sep='\\t')\n",
    "test['price'] = -1"
   ]
  },
  {
   "cell_type": "code",
   "execution_count": 12,
   "metadata": {},
   "outputs": [
    {
     "data": {
      "text/plain": [
       "train_id               int64\n",
       "name                  object\n",
       "item_condition_id      int64\n",
       "category_name         object\n",
       "brand_name            object\n",
       "price                float64\n",
       "shipping               int64\n",
       "item_description      object\n",
       "dtype: object"
      ]
     },
     "execution_count": 12,
     "metadata": {},
     "output_type": "execute_result"
    }
   ],
   "source": []
  },
  {
   "cell_type": "code",
   "execution_count": 13,
   "metadata": {},
   "outputs": [
    {
     "name": "stderr",
     "output_type": "stream",
     "text": [
      "/anaconda3/lib/python3.6/site-packages/ipykernel_launcher.py:1: FutureWarning: Sorting because non-concatenation axis is not aligned. A future version\n",
      "of pandas will change to not sort by default.\n",
      "\n",
      "To accept the future behavior, pass 'sort=True'.\n",
      "\n",
      "To retain the current behavior and silence the warning, pass sort=False\n",
      "\n",
      "  \"\"\"Entry point for launching an IPython kernel.\n"
     ]
    }
   ],
   "source": [
    "df = pd.concat([train, test]).reset_index()\n",
    "change_datatype(df)\n",
    "df = df.fillna('')\n",
    "df = add_words(df, 'name', 43) \n",
    "df = add_words(df, 'item_description', 60)"
   ]
  },
  {
   "cell_type": "code",
   "execution_count": 14,
   "metadata": {},
   "outputs": [],
   "source": [
    "for c in c_categories:\n",
    "     df[c+'_cat'] = pd.factorize(df[c])[0]"
   ]
  },
  {
   "cell_type": "code",
   "execution_count": 15,
   "metadata": {},
   "outputs": [],
   "source": [
    "for c in c_texts:\n",
    "    df[c + '_c_words'] = df[c].apply(count_words)\n",
    "    df[c + '_c_upper'] = df[c].apply(count_upper)\n",
    "    df[c + '_c_numbers'] = df[c].apply(count_numbers)\n",
    "    df[c + '_len'] = df[c].str.len()\n",
    "    df[c + '_mean_len_words'] = df[c + '_len']/df[c + '_c_words']\n",
    "    df[c + '_mean_upper'] = df[c + '_len']/df[c + '_c_upper']\n",
    "    df[c + '_mean_numbers'] = df[c + '_len']/df[c + '_c_numbers']"
   ]
  },
  {
   "cell_type": "code",
   "execution_count": 16,
   "metadata": {},
   "outputs": [],
   "source": [
    "# numpyのsquare()は、各要素の2乗を返す。\n",
    "# numpy.tanh(x)\t双曲線関数tanh(x)を求めます\n",
    "#------- begin feature engineering (Leandro dos Santos Coelho)\n",
    "df['fe001'] = np.square(df[\"name_mean_len_words\"])\n",
    "df['fe002'] = np.square(df[\"item_description_mean_len_words\"])\n",
    "df['fe003'] = np.tanh(df[\"name_mean_len_words\"])\n",
    "df['fe004'] = np.tanh(df[\"item_description_mean_len_words\"])\n",
    "df['fe005'] = df[\"name_mean_len_words\"]**2.37\n",
    "df['fe006'] = df[\"item_description_mean_len_words\"]**2.15\n",
    "#------- end feature engineering (Leandro dos Santos Coelho)"
   ]
  },
  {
   "cell_type": "code",
   "execution_count": 17,
   "metadata": {},
   "outputs": [
    {
     "data": {
      "text/plain": [
       "index                                int32\n",
       "brand_name                          object\n",
       "category_name                       object\n",
       "item_condition_id                     int8\n",
       "item_description                    object\n",
       "name                                object\n",
       "price                              float32\n",
       "shipping                              int8\n",
       "test_id                             object\n",
       "train_id                            object\n",
       "name0                               uint16\n",
       "name1                               uint16\n",
       "name2                               uint16\n",
       "name3                               uint16\n",
       "name4                               uint16\n",
       "name5                               uint16\n",
       "name6                               uint16\n",
       "name7                               uint16\n",
       "name8                               uint16\n",
       "name9                               uint16\n",
       "name10                              uint16\n",
       "name11                              uint16\n",
       "name12                              uint16\n",
       "name13                              uint16\n",
       "name14                              uint16\n",
       "name15                              uint16\n",
       "name16                              uint16\n",
       "name17                              uint16\n",
       "name18                              uint16\n",
       "name19                              uint16\n",
       "                                    ...   \n",
       "item_description54                  uint16\n",
       "item_description55                  uint16\n",
       "item_description56                  uint16\n",
       "item_description57                  uint16\n",
       "item_description58                  uint16\n",
       "item_description59                  uint16\n",
       "name_cat                             int64\n",
       "category_name_cat                    int64\n",
       "brand_name_cat                       int64\n",
       "item_description_cat                 int64\n",
       "name_c_words                         int64\n",
       "name_c_upper                         int64\n",
       "name_c_numbers                       int64\n",
       "name_len                             int64\n",
       "name_mean_len_words                float64\n",
       "name_mean_upper                    float64\n",
       "name_mean_numbers                  float64\n",
       "item_description_c_words             int64\n",
       "item_description_c_upper             int64\n",
       "item_description_c_numbers           int64\n",
       "item_description_len                 int64\n",
       "item_description_mean_len_words    float64\n",
       "item_description_mean_upper        float64\n",
       "item_description_mean_numbers      float64\n",
       "fe001                              float64\n",
       "fe002                              float64\n",
       "fe003                              float64\n",
       "fe004                              float64\n",
       "fe005                              float64\n",
       "fe006                              float64\n",
       "Length: 137, dtype: object"
      ]
     },
     "execution_count": 17,
     "metadata": {},
     "output_type": "execute_result"
    }
   ],
   "source": [
    "df.dtypes"
   ]
  },
  {
   "cell_type": "code",
   "execution_count": 18,
   "metadata": {},
   "outputs": [],
   "source": [
    "test = df[df['price'] == -1]\n",
    "train = df[df['price'] != -1]\n",
    "del df"
   ]
  },
  {
   "cell_type": "code",
   "execution_count": 19,
   "metadata": {},
   "outputs": [],
   "source": [
    "train, valid = np.split(train.sample(frac=1), [int(.75*train.shape[0])])"
   ]
  },
  {
   "cell_type": "code",
   "execution_count": 20,
   "metadata": {},
   "outputs": [],
   "source": [
    "for c in c_means:\n",
    "    mean = get_mean(train, c, 'price')\n",
    "    test = test.merge(mean, on=[c], how='left')\n",
    "    train = train.merge(mean, on=[c], how='left')\n",
    "    valid = valid.merge(mean, on=[c], how='left')"
   ]
  },
  {
   "cell_type": "code",
   "execution_count": 21,
   "metadata": {},
   "outputs": [],
   "source": [
    "col = [c for c in train.columns if c not in c_ignors]"
   ]
  },
  {
   "cell_type": "code",
   "execution_count": 22,
   "metadata": {},
   "outputs": [
    {
     "name": "stdout",
     "output_type": "stream",
     "text": [
      "[01:17:13] Tree method is selected to be 'hist', which uses a single updater grow_fast_histmaker.\n",
      "[0]\ttrain-rmse:46.2835\tvalid-rmse:46.1363\n",
      "Multiple eval metrics have been passed: 'valid-rmse' will be used for early stopping.\n",
      "\n",
      "Will train until valid-rmse hasn't improved in 20 rounds.\n",
      "[10]\ttrain-rmse:42.9263\tvalid-rmse:43.0347\n",
      "[20]\ttrain-rmse:39.9763\tvalid-rmse:40.39\n",
      "[30]\ttrain-rmse:37.5772\tvalid-rmse:38.2813\n",
      "[40]\ttrain-rmse:35.668\tvalid-rmse:36.6721\n",
      "[50]\ttrain-rmse:33.8473\tvalid-rmse:35.1736\n",
      "[60]\ttrain-rmse:32.4532\tvalid-rmse:34.0852\n",
      "[70]\ttrain-rmse:31.0364\tvalid-rmse:33.0061\n",
      "[80]\ttrain-rmse:30.0168\tvalid-rmse:32.2845\n",
      "[90]\ttrain-rmse:29.1387\tvalid-rmse:31.7041\n",
      "[100]\ttrain-rmse:28.3743\tvalid-rmse:31.2279\n",
      "[110]\ttrain-rmse:27.6612\tvalid-rmse:30.7957\n",
      "[120]\ttrain-rmse:27.0308\tvalid-rmse:30.4417\n",
      "[130]\ttrain-rmse:26.5545\tvalid-rmse:30.2017\n",
      "[140]\ttrain-rmse:26.0956\tvalid-rmse:29.9867\n",
      "[150]\ttrain-rmse:25.6631\tvalid-rmse:29.7858\n",
      "[160]\ttrain-rmse:25.3018\tvalid-rmse:29.6432\n",
      "[170]\ttrain-rmse:24.9617\tvalid-rmse:29.5093\n",
      "[180]\ttrain-rmse:24.6561\tvalid-rmse:29.4049\n",
      "[190]\ttrain-rmse:24.355\tvalid-rmse:29.2938\n",
      "[200]\ttrain-rmse:24.0857\tvalid-rmse:29.2052\n",
      "[210]\ttrain-rmse:23.8486\tvalid-rmse:29.1369\n",
      "[220]\ttrain-rmse:23.5969\tvalid-rmse:29.0639\n",
      "[230]\ttrain-rmse:23.4139\tvalid-rmse:29.0199\n",
      "[240]\ttrain-rmse:23.2049\tvalid-rmse:28.9658\n",
      "[250]\ttrain-rmse:23.0194\tvalid-rmse:28.9223\n",
      "[260]\ttrain-rmse:22.8421\tvalid-rmse:28.8792\n",
      "[270]\ttrain-rmse:22.6762\tvalid-rmse:28.8444\n",
      "[280]\ttrain-rmse:22.5305\tvalid-rmse:28.8149\n",
      "[290]\ttrain-rmse:22.3622\tvalid-rmse:28.784\n",
      "[300]\ttrain-rmse:22.2219\tvalid-rmse:28.7592\n",
      "[310]\ttrain-rmse:22.0881\tvalid-rmse:28.7364\n",
      "[320]\ttrain-rmse:21.954\tvalid-rmse:28.7129\n",
      "[330]\ttrain-rmse:21.8387\tvalid-rmse:28.6936\n",
      "[340]\ttrain-rmse:21.7314\tvalid-rmse:28.6769\n",
      "[350]\ttrain-rmse:21.6299\tvalid-rmse:28.6595\n",
      "[360]\ttrain-rmse:21.5377\tvalid-rmse:28.646\n",
      "[370]\ttrain-rmse:21.4401\tvalid-rmse:28.6331\n",
      "[380]\ttrain-rmse:21.3453\tvalid-rmse:28.624\n",
      "[390]\ttrain-rmse:21.2414\tvalid-rmse:28.6104\n",
      "[400]\ttrain-rmse:21.1705\tvalid-rmse:28.5995\n",
      "[410]\ttrain-rmse:21.0997\tvalid-rmse:28.5905\n",
      "[420]\ttrain-rmse:21.0205\tvalid-rmse:28.5792\n",
      "[430]\ttrain-rmse:20.9374\tvalid-rmse:28.5684\n",
      "[440]\ttrain-rmse:20.8629\tvalid-rmse:28.5588\n",
      "[450]\ttrain-rmse:20.7818\tvalid-rmse:28.5496\n",
      "[460]\ttrain-rmse:20.7047\tvalid-rmse:28.5412\n",
      "[470]\ttrain-rmse:20.6243\tvalid-rmse:28.5307\n",
      "[480]\ttrain-rmse:20.5593\tvalid-rmse:28.5248\n",
      "[490]\ttrain-rmse:20.4908\tvalid-rmse:28.518\n",
      "[500]\ttrain-rmse:20.4171\tvalid-rmse:28.5096\n",
      "[510]\ttrain-rmse:20.3501\tvalid-rmse:28.5034\n",
      "[520]\ttrain-rmse:20.2835\tvalid-rmse:28.4961\n",
      "[530]\ttrain-rmse:20.2143\tvalid-rmse:28.4883\n",
      "[540]\ttrain-rmse:20.1696\tvalid-rmse:28.4818\n",
      "[550]\ttrain-rmse:20.114\tvalid-rmse:28.4766\n",
      "[560]\ttrain-rmse:20.0564\tvalid-rmse:28.4707\n",
      "[570]\ttrain-rmse:19.9989\tvalid-rmse:28.4627\n",
      "[580]\ttrain-rmse:19.9426\tvalid-rmse:28.4575\n",
      "[590]\ttrain-rmse:19.8805\tvalid-rmse:28.4508\n",
      "[600]\ttrain-rmse:19.8304\tvalid-rmse:28.4444\n",
      "[610]\ttrain-rmse:19.7826\tvalid-rmse:28.4405\n",
      "[620]\ttrain-rmse:19.7439\tvalid-rmse:28.4366\n",
      "[630]\ttrain-rmse:19.6961\tvalid-rmse:28.4326\n",
      "[640]\ttrain-rmse:19.6479\tvalid-rmse:28.4288\n",
      "[650]\ttrain-rmse:19.6019\tvalid-rmse:28.424\n",
      "[660]\ttrain-rmse:19.5552\tvalid-rmse:28.4211\n",
      "[670]\ttrain-rmse:19.5036\tvalid-rmse:28.4159\n",
      "[680]\ttrain-rmse:19.4663\tvalid-rmse:28.4134\n",
      "[690]\ttrain-rmse:19.4345\tvalid-rmse:28.4112\n",
      "[700]\ttrain-rmse:19.3959\tvalid-rmse:28.4074\n",
      "[710]\ttrain-rmse:19.3507\tvalid-rmse:28.4041\n",
      "[720]\ttrain-rmse:19.3146\tvalid-rmse:28.4003\n",
      "[730]\ttrain-rmse:19.2715\tvalid-rmse:28.3953\n",
      "[740]\ttrain-rmse:19.2269\tvalid-rmse:28.3921\n",
      "[750]\ttrain-rmse:19.1912\tvalid-rmse:28.3878\n",
      "[760]\ttrain-rmse:19.1555\tvalid-rmse:28.3844\n",
      "[770]\ttrain-rmse:19.1288\tvalid-rmse:28.3823\n",
      "[780]\ttrain-rmse:19.108\tvalid-rmse:28.3806\n",
      "[790]\ttrain-rmse:19.0677\tvalid-rmse:28.3777\n",
      "[800]\ttrain-rmse:19.0328\tvalid-rmse:28.3729\n",
      "[810]\ttrain-rmse:18.9939\tvalid-rmse:28.3695\n",
      "[820]\ttrain-rmse:18.9567\tvalid-rmse:28.3668\n",
      "[830]\ttrain-rmse:18.9197\tvalid-rmse:28.3638\n",
      "[840]\ttrain-rmse:18.8923\tvalid-rmse:28.3617\n",
      "[850]\ttrain-rmse:18.8495\tvalid-rmse:28.3583\n",
      "[860]\ttrain-rmse:18.8217\tvalid-rmse:28.3551\n",
      "[870]\ttrain-rmse:18.792\tvalid-rmse:28.3536\n",
      "[880]\ttrain-rmse:18.7595\tvalid-rmse:28.3503\n",
      "[890]\ttrain-rmse:18.7327\tvalid-rmse:28.3483\n",
      "[900]\ttrain-rmse:18.6979\tvalid-rmse:28.3461\n",
      "[910]\ttrain-rmse:18.6618\tvalid-rmse:28.3428\n",
      "[920]\ttrain-rmse:18.633\tvalid-rmse:28.3411\n",
      "[930]\ttrain-rmse:18.6052\tvalid-rmse:28.339\n",
      "[940]\ttrain-rmse:18.5768\tvalid-rmse:28.3373\n",
      "[950]\ttrain-rmse:18.5479\tvalid-rmse:28.3349\n",
      "[960]\ttrain-rmse:18.5125\tvalid-rmse:28.3331\n",
      "[970]\ttrain-rmse:18.4892\tvalid-rmse:28.3309\n",
      "[980]\ttrain-rmse:18.4547\tvalid-rmse:28.3264\n",
      "[990]\ttrain-rmse:18.4241\tvalid-rmse:28.3237\n",
      "[999]\ttrain-rmse:18.394\tvalid-rmse:28.3204\n"
     ]
    },
    {
     "ename": "FileNotFoundError",
     "evalue": "[Errno 2] No such file or directory: 'output/20180827_xgboost.csv'",
     "output_type": "error",
     "traceback": [
      "\u001b[0;31m------------------------------------------------------------------\u001b[0m",
      "\u001b[0;31mFileNotFoundError\u001b[0m                Traceback (most recent call last)",
      "\u001b[0;32m<ipython-input-22-08a463603bdb>\u001b[0m in \u001b[0;36m<module>\u001b[0;34m()\u001b[0m\n\u001b[1;32m      9\u001b[0m \u001b[0mtest\u001b[0m\u001b[0;34m.\u001b[0m\u001b[0mloc\u001b[0m\u001b[0;34m[\u001b[0m\u001b[0mtest\u001b[0m\u001b[0;34m[\u001b[0m\u001b[0;34m'price'\u001b[0m\u001b[0;34m]\u001b[0m \u001b[0;34m<\u001b[0m \u001b[0;36m0\u001b[0m\u001b[0;34m,\u001b[0m \u001b[0;34m'price'\u001b[0m\u001b[0;34m]\u001b[0m \u001b[0;34m=\u001b[0m \u001b[0;36m0\u001b[0m\u001b[0;34m\u001b[0m\u001b[0m\n\u001b[1;32m     10\u001b[0m \u001b[0mtest\u001b[0m\u001b[0;34m[\u001b[0m\u001b[0;34m'test_id'\u001b[0m\u001b[0;34m]\u001b[0m \u001b[0;34m=\u001b[0m \u001b[0mtest\u001b[0m\u001b[0;34m[\u001b[0m\u001b[0;34m'test_id'\u001b[0m\u001b[0;34m]\u001b[0m\u001b[0;34m.\u001b[0m\u001b[0mastype\u001b[0m\u001b[0;34m(\u001b[0m\u001b[0mint\u001b[0m\u001b[0;34m)\u001b[0m\u001b[0;34m\u001b[0m\u001b[0m\n\u001b[0;32m---> 11\u001b[0;31m \u001b[0mtest\u001b[0m\u001b[0;34m[\u001b[0m\u001b[0;34m[\u001b[0m\u001b[0;34m'test_id'\u001b[0m\u001b[0;34m,\u001b[0m \u001b[0;34m'price'\u001b[0m\u001b[0;34m]\u001b[0m\u001b[0;34m]\u001b[0m\u001b[0;34m.\u001b[0m\u001b[0mto_csv\u001b[0m\u001b[0;34m(\u001b[0m\u001b[0;34m\"output/20180827_xgboost.csv\"\u001b[0m\u001b[0;34m,\u001b[0m \u001b[0mindex\u001b[0m \u001b[0;34m=\u001b[0m \u001b[0;32mFalse\u001b[0m\u001b[0;34m)\u001b[0m\u001b[0;34m\u001b[0m\u001b[0m\n\u001b[0m\u001b[1;32m     12\u001b[0m \u001b[0mprint\u001b[0m\u001b[0;34m(\u001b[0m\u001b[0;34m\"Finished ...\"\u001b[0m\u001b[0;34m)\u001b[0m\u001b[0;34m\u001b[0m\u001b[0m\n\u001b[1;32m     13\u001b[0m \u001b[0mtt\u001b[0m \u001b[0;34m=\u001b[0m \u001b[0;34m(\u001b[0m\u001b[0mtime\u001b[0m\u001b[0;34m.\u001b[0m\u001b[0mtime\u001b[0m\u001b[0;34m(\u001b[0m\u001b[0;34m)\u001b[0m \u001b[0;34m-\u001b[0m \u001b[0mstart_time\u001b[0m\u001b[0;34m)\u001b[0m\u001b[0;34m/\u001b[0m\u001b[0;36m60\u001b[0m\u001b[0;34m\u001b[0m\u001b[0m\n",
      "\u001b[0;32m/anaconda3/lib/python3.6/site-packages/pandas/core/frame.py\u001b[0m in \u001b[0;36mto_csv\u001b[0;34m(self, path_or_buf, sep, na_rep, float_format, columns, header, index, index_label, mode, encoding, compression, quoting, quotechar, line_terminator, chunksize, tupleize_cols, date_format, doublequote, escapechar, decimal)\u001b[0m\n\u001b[1;32m   1743\u001b[0m                                  \u001b[0mdoublequote\u001b[0m\u001b[0;34m=\u001b[0m\u001b[0mdoublequote\u001b[0m\u001b[0;34m,\u001b[0m\u001b[0;34m\u001b[0m\u001b[0m\n\u001b[1;32m   1744\u001b[0m                                  escapechar=escapechar, decimal=decimal)\n\u001b[0;32m-> 1745\u001b[0;31m         \u001b[0mformatter\u001b[0m\u001b[0;34m.\u001b[0m\u001b[0msave\u001b[0m\u001b[0;34m(\u001b[0m\u001b[0;34m)\u001b[0m\u001b[0;34m\u001b[0m\u001b[0m\n\u001b[0m\u001b[1;32m   1746\u001b[0m \u001b[0;34m\u001b[0m\u001b[0m\n\u001b[1;32m   1747\u001b[0m         \u001b[0;32mif\u001b[0m \u001b[0mpath_or_buf\u001b[0m \u001b[0;32mis\u001b[0m \u001b[0;32mNone\u001b[0m\u001b[0;34m:\u001b[0m\u001b[0;34m\u001b[0m\u001b[0m\n",
      "\u001b[0;32m/anaconda3/lib/python3.6/site-packages/pandas/io/formats/csvs.py\u001b[0m in \u001b[0;36msave\u001b[0;34m(self)\u001b[0m\n\u001b[1;32m    134\u001b[0m             f, handles = _get_handle(self.path_or_buf, self.mode,\n\u001b[1;32m    135\u001b[0m                                      \u001b[0mencoding\u001b[0m\u001b[0;34m=\u001b[0m\u001b[0mencoding\u001b[0m\u001b[0;34m,\u001b[0m\u001b[0;34m\u001b[0m\u001b[0m\n\u001b[0;32m--> 136\u001b[0;31m                                      compression=None)\n\u001b[0m\u001b[1;32m    137\u001b[0m             \u001b[0mclose\u001b[0m \u001b[0;34m=\u001b[0m \u001b[0;32mTrue\u001b[0m \u001b[0;32mif\u001b[0m \u001b[0mself\u001b[0m\u001b[0;34m.\u001b[0m\u001b[0mcompression\u001b[0m \u001b[0;32mis\u001b[0m \u001b[0;32mNone\u001b[0m \u001b[0;32melse\u001b[0m \u001b[0;32mFalse\u001b[0m\u001b[0;34m\u001b[0m\u001b[0m\n\u001b[1;32m    138\u001b[0m \u001b[0;34m\u001b[0m\u001b[0m\n",
      "\u001b[0;32m/anaconda3/lib/python3.6/site-packages/pandas/io/common.py\u001b[0m in \u001b[0;36m_get_handle\u001b[0;34m(path_or_buf, mode, encoding, compression, memory_map, is_text)\u001b[0m\n\u001b[1;32m    398\u001b[0m         \u001b[0;32melif\u001b[0m \u001b[0mencoding\u001b[0m\u001b[0;34m:\u001b[0m\u001b[0;34m\u001b[0m\u001b[0m\n\u001b[1;32m    399\u001b[0m             \u001b[0;31m# Python 3 and encoding\u001b[0m\u001b[0;34m\u001b[0m\u001b[0;34m\u001b[0m\u001b[0m\n\u001b[0;32m--> 400\u001b[0;31m             \u001b[0mf\u001b[0m \u001b[0;34m=\u001b[0m \u001b[0mopen\u001b[0m\u001b[0;34m(\u001b[0m\u001b[0mpath_or_buf\u001b[0m\u001b[0;34m,\u001b[0m \u001b[0mmode\u001b[0m\u001b[0;34m,\u001b[0m \u001b[0mencoding\u001b[0m\u001b[0;34m=\u001b[0m\u001b[0mencoding\u001b[0m\u001b[0;34m)\u001b[0m\u001b[0;34m\u001b[0m\u001b[0m\n\u001b[0m\u001b[1;32m    401\u001b[0m         \u001b[0;32melif\u001b[0m \u001b[0mis_text\u001b[0m\u001b[0;34m:\u001b[0m\u001b[0;34m\u001b[0m\u001b[0m\n\u001b[1;32m    402\u001b[0m             \u001b[0;31m# Python 3 and no explicit encoding\u001b[0m\u001b[0;34m\u001b[0m\u001b[0;34m\u001b[0m\u001b[0m\n",
      "\u001b[0;31mFileNotFoundError\u001b[0m: [Errno 2] No such file or directory: 'output/20180827_xgboost.csv'"
     ]
    }
   ],
   "source": [
    "dtrain = xgb.DMatrix(train[col], train['price'])\n",
    "dvalid  = xgb.DMatrix(valid[col],  valid['price'])\n",
    "watchlist = [(dtrain, 'train'), (dvalid, 'valid')]\n",
    "params = {'min_child_weight': 20, 'eta': 0.015, 'colsample_bytree': 0.48, 'max_depth': 14,\n",
    "            'subsample': 0.91, 'lambda': 2.01, 'nthread': 4, 'booster' : 'gbtree', 'silent': 1,\n",
    "            'eval_metric': 'rmse', 'objective': 'reg:linear','tree_method': 'hist'}\n",
    "model = xgb.train(params, dtrain, 1000, watchlist, verbose_eval=10, early_stopping_rounds=20)\n",
    "test['price'] = model.predict(xgb.DMatrix(test[col]), ntree_limit=model.best_ntree_limit)\n",
    "test.loc[test['price'] < 0, 'price'] = 0\n",
    "test['test_id'] = test['test_id'].astype(int)"
   ]
  },
  {
   "cell_type": "code",
   "execution_count": 23,
   "metadata": {},
   "outputs": [
    {
     "name": "stdout",
     "output_type": "stream",
     "text": [
      "Finished ...\n",
      "Total time 557.2454558491706 min\n"
     ]
    }
   ],
   "source": [
    "test[['test_id', 'price']].to_csv(\"../output/20180827_xgboost.csv\", index = False)\n",
    "print(\"Finished ...\")\n",
    "tt = (time.time() - start_time)/60\n",
    "print(\"Total time %s min\" % tt)"
   ]
  },
  {
   "cell_type": "code",
   "execution_count": null,
   "metadata": {},
   "outputs": [],
   "source": []
  }
 ],
 "metadata": {
  "kernelspec": {
   "display_name": "Python 3",
   "language": "python",
   "name": "python3"
  },
  "language_info": {
   "codemirror_mode": {
    "name": "ipython",
    "version": 3
   },
   "file_extension": ".py",
   "mimetype": "text/x-python",
   "name": "python",
   "nbconvert_exporter": "python",
   "pygments_lexer": "ipython3",
   "version": "3.6.5"
  }
 },
 "nbformat": 4,
 "nbformat_minor": 2
}
